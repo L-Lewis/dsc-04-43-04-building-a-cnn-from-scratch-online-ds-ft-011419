{
 "cells": [
  {
   "cell_type": "markdown",
   "metadata": {},
   "source": [
    "# Building a CNN from Scratch - Lab\n",
    "\n",
    "## Introduction\n",
    "\n",
    "Now that you have background knowledge regarding how CNNs work and how to implement them via Keras, its time to pratice those skills a little more independently in order to build a CNN on your own to solve a image recognition problem. In this lab, you'll practice building an image classifier from start to finish using a CNN.  \n",
    "\n",
    "## Objectives\n",
    "\n",
    "You will be able to:\n",
    "* Transform images into tensors\n",
    "* Build a CNN model for image recognition"
   ]
  },
  {
   "cell_type": "markdown",
   "metadata": {},
   "source": [
    "## Loading the Images\n",
    "\n",
    "The data for this lab concerns classifying lung xray images for pneumonia. The original dataset is from kaggle. We have downsampled this dataset in order to reduce trainging time for you when you design and fit your model to the data. It is anticipated that this process will take approximately 1 hour to run on a standard machine, although times will vary depending on your particular computer and set up. At the end of this lab, you are welcome to try training on the complete dataset and observe the impact on the model's overall accuracy. \n",
    "\n",
    "You can find the initial downsampled dataset in a subdirectory, **chest_xray**, of this repository."
   ]
  },
  {
   "cell_type": "code",
   "execution_count": 9,
   "metadata": {},
   "outputs": [],
   "source": [
    "from keras.preprocessing.image import ImageDataGenerator\n",
    "import datetime\n",
    "from keras import layers, models, optimizers\n",
    "import matplotlib.pyplot as plt\n",
    "%matplotlib inline "
   ]
  },
  {
   "cell_type": "code",
   "execution_count": 2,
   "metadata": {},
   "outputs": [
    {
     "name": "stdout",
     "output_type": "stream",
     "text": [
      "Found 208 images belonging to 2 classes.\n",
      "Found 4 images belonging to 2 classes.\n",
      "Found 1738 images belonging to 2 classes.\n"
     ]
    }
   ],
   "source": [
    "#Your code here; load the images; be sure to also preprocess these into tensors.\n",
    "train_dir = 'chest_xray_downsampled/train/'\n",
    "test_dir = 'chest_xray_downsampled/test/'\n",
    "val_dir = 'chest_xray_downsampled/val/'\n",
    "\n",
    "# get all the data in the test directory\n",
    "test_generator = ImageDataGenerator(rescale=1./255).flow_from_directory(\n",
    "        test_dir, \n",
    "        target_size=(150, 150),\n",
    "        class_mode='binary') \n",
    "\n",
    "# get all the data in the val directory\n",
    "val_generator = ImageDataGenerator(rescale=1./255).flow_from_directory(\n",
    "        val_dir, \n",
    "        target_size=(150, 150),\n",
    "        class_mode='binary')\n",
    "\n",
    "# get all the data in the train directory\n",
    "train_generator = ImageDataGenerator(rescale=1./255).flow_from_directory(\n",
    "        train_dir, \n",
    "        target_size=(150, 150),\n",
    "        class_mode='binary')"
   ]
  },
  {
   "cell_type": "markdown",
   "metadata": {},
   "source": [
    "## Designing the Model\n",
    "\n",
    "Now it's time to design your CNN! Remember a few things when doing this: \n",
    "* You should alternate convolutional and pooling layers\n",
    "* You should have later layers have a larger number of parameters in order to detect more abstract patterns\n",
    "* Add some final dense layers to add a classifier to the convolutional base"
   ]
  },
  {
   "cell_type": "code",
   "execution_count": 6,
   "metadata": {},
   "outputs": [],
   "source": [
    "#Your code here; design and compile the model\n",
    "model = models.Sequential()\n",
    "\n",
    "model.add(layers.Conv2D(20, (3, 3), activation='relu',\n",
    "                        input_shape=(150, 150, 3)))\n",
    "model.add(layers.MaxPooling2D((2, 2)))\n",
    "\n",
    "model.add(layers.Conv2D(50, (3, 3), activation='relu'))\n",
    "model.add(layers.MaxPooling2D((2, 2)))\n",
    "\n",
    "model.add(layers.Flatten())\n",
    "model.add(layers.Dense(100, activation='relu'))\n",
    "model.add(layers.Dense(1, activation='sigmoid'))\n",
    "\n",
    "model.compile(loss='binary_crossentropy',\n",
    "              optimizer=\"sgd\",\n",
    "              metrics=['acc'])"
   ]
  },
  {
   "cell_type": "markdown",
   "metadata": {},
   "source": [
    "## Training and Evaluating the Model\n",
    "\n",
    "Remember that training deep networks is resource intensive: depending on the size of the data, even a CNN with 3-4 successive convolutional and pooling layers is apt to take a hours to train on a high end laptop. Using 30 epochs and 8 layers (alternating between convolutional and pooling), our model took about 40 minutes to run on a year old macbook pro.\n",
    "\n",
    "\n",
    "If you are concerned with runtime, you may want to set your model to run the training epochs overnight.  \n",
    "\n",
    "**If you are going to run this process overnight, be sure to also script code for the following questions concerning data augmentation. Check your code twice (or more) and then set the notebook to run all, or something equivalent to have them train overnight.**"
   ]
  },
  {
   "cell_type": "code",
   "execution_count": 10,
   "metadata": {},
   "outputs": [
    {
     "name": "stdout",
     "output_type": "stream",
     "text": [
      "Epoch 1/20\n",
      "50/50 [==============================] - 44s 875ms/step - loss: 0.4926 - acc: 0.7670 - val_loss: 0.7319 - val_acc: 0.7500\n",
      "Epoch 2/20\n",
      "50/50 [==============================] - 45s 893ms/step - loss: 0.4549 - acc: 0.7876 - val_loss: 0.7890 - val_acc: 0.7500\n",
      "Epoch 3/20\n",
      "50/50 [==============================] - 45s 908ms/step - loss: 0.3846 - acc: 0.8431 - val_loss: 0.7351 - val_acc: 0.7500\n",
      "Epoch 4/20\n",
      "50/50 [==============================] - 42s 831ms/step - loss: 0.3384 - acc: 0.8572 - val_loss: 0.6563 - val_acc: 0.5000\n",
      "Epoch 5/20\n",
      "50/50 [==============================] - 45s 902ms/step - loss: 0.2784 - acc: 0.8931 - val_loss: 1.1487 - val_acc: 0.7500\n",
      "Epoch 6/20\n",
      "50/50 [==============================] - 44s 878ms/step - loss: 0.2654 - acc: 0.8894 - val_loss: 0.7930 - val_acc: 0.7500\n",
      "Epoch 7/20\n",
      "50/50 [==============================] - 43s 869ms/step - loss: 0.2122 - acc: 0.9161 - val_loss: 0.7685 - val_acc: 0.7500\n",
      "Epoch 8/20\n",
      "50/50 [==============================] - 49s 977ms/step - loss: 0.2102 - acc: 0.9131 - val_loss: 1.3299 - val_acc: 0.7500\n",
      "Epoch 9/20\n",
      "50/50 [==============================] - 47s 941ms/step - loss: 0.2087 - acc: 0.9155 - val_loss: 1.3206 - val_acc: 0.5000\n",
      "Epoch 10/20\n",
      "50/50 [==============================] - 45s 901ms/step - loss: 0.2059 - acc: 0.9174 - val_loss: 0.6942 - val_acc: 0.7500\n",
      "Epoch 11/20\n",
      "50/50 [==============================] - 44s 878ms/step - loss: 0.1709 - acc: 0.9305 - val_loss: 0.7652 - val_acc: 0.7500\n",
      "Epoch 12/20\n",
      "50/50 [==============================] - 44s 872ms/step - loss: 0.1626 - acc: 0.9325 - val_loss: 0.6671 - val_acc: 0.7500\n",
      "Epoch 13/20\n",
      "50/50 [==============================] - 45s 897ms/step - loss: 0.1717 - acc: 0.9360 - val_loss: 0.7005 - val_acc: 0.7500\n",
      "Epoch 14/20\n",
      "50/50 [==============================] - 42s 844ms/step - loss: 0.1483 - acc: 0.9381 - val_loss: 1.0722 - val_acc: 0.5000\n",
      "Epoch 15/20\n",
      "50/50 [==============================] - 43s 850ms/step - loss: 0.1591 - acc: 0.9406 - val_loss: 1.0239 - val_acc: 0.5000\n",
      "Epoch 16/20\n",
      "50/50 [==============================] - 41s 830ms/step - loss: 0.1465 - acc: 0.9429 - val_loss: 0.5163 - val_acc: 0.7500\n",
      "Epoch 17/20\n",
      "50/50 [==============================] - 46s 924ms/step - loss: 0.1410 - acc: 0.9469 - val_loss: 0.5894 - val_acc: 0.7500\n",
      "Epoch 18/20\n",
      "50/50 [==============================] - 44s 873ms/step - loss: 0.1484 - acc: 0.9361 - val_loss: 1.6917 - val_acc: 0.5000\n",
      "Epoch 19/20\n",
      "50/50 [==============================] - 43s 853ms/step - loss: 0.1211 - acc: 0.9544 - val_loss: 0.9775 - val_acc: 0.5000\n",
      "Epoch 20/20\n",
      "50/50 [==============================] - 43s 854ms/step - loss: 0.1523 - acc: 0.9400 - val_loss: 1.0815 - val_acc: 0.5000\n",
      "Time elapsed: 0:14:42.595971\n"
     ]
    }
   ],
   "source": [
    "#Set the model to train; see warnings above\n",
    "now = datetime.datetime.now()\n",
    "\n",
    "history = model.fit_generator(\n",
    "      train_generator,\n",
    "      steps_per_epoch=50,\n",
    "      epochs=20,\n",
    "      validation_data=val_generator,\n",
    "      validation_steps=50)\n",
    "\n",
    "later = datetime.datetime.now()\n",
    "elapsed = later - now\n",
    "print(\"Time elapsed:\", elapsed)"
   ]
  },
  {
   "cell_type": "code",
   "execution_count": 11,
   "metadata": {},
   "outputs": [
    {
     "data": {
      "image/png": "[encoded data removed]",
      "text/plain": [
       "<Figure size 432x288 with 1 Axes>"
      ]
     },
     "metadata": {
      "needs_background": "light"
     },
     "output_type": "display_data"
    },
    {
     "data": {
      "image/png": "[encoded data removed]",
      "text/plain": [
       "<Figure size 432x288 with 1 Axes>"
      ]
     },
     "metadata": {
      "needs_background": "light"
     },
     "output_type": "display_data"
    }
   ],
   "source": [
    "# Plot history\n",
    "acc = history.history['acc']\n",
    "val_acc = history.history['val_acc']\n",
    "loss = history.history['loss']\n",
    "val_loss = history.history['val_loss']\n",
    "epochs = range(len(acc))\n",
    "plt.plot(epochs, acc, 'bo', label='Training acc')\n",
    "plt.plot(epochs, val_acc, 'b', label='Validation acc')\n",
    "plt.title('Training and validation accuracy')\n",
    "plt.legend()\n",
    "plt.figure()\n",
    "plt.plot(epochs, loss, 'bo', label='Training loss')\n",
    "plt.plot(epochs, val_loss, 'b', label='Validation loss')\n",
    "plt.title('Training and validation loss')\n",
    "plt.legend()\n",
    "plt.show()"
   ]
  },
  {
   "cell_type": "markdown",
   "metadata": {},
   "source": [
    "## Save the Model"
   ]
  },
  {
   "cell_type": "code",
   "execution_count": 12,
   "metadata": {},
   "outputs": [],
   "source": [
    "#Your code here; save the model for future reference.\n",
    "model.save('chest_xray_downsampled_data_v2.h5')"
   ]
  },
  {
   "cell_type": "markdown",
   "metadata": {},
   "source": [
    "## Data Augmentation\n",
    "\n",
    "Recall that data augmentation is typically always a necessary step when using a small dataset as this one which you have been provided. As such, if you haven't already, implement a data augmentation setup.\n",
    "\n",
    "**Warning: This process took nearly 4 hours to run on a relatively new macbook pro. As such, it is recommended that you simply code the setup and compare to the solution branch, or set the process to run overnight if you do choose to actually run the code.**"
   ]
  },
  {
   "cell_type": "code",
   "execution_count": null,
   "metadata": {},
   "outputs": [],
   "source": [
    "#Add data augmentation to the model setup and set the model to train; \n",
    "#See warnings above if you intend to run this block of code\n",
    "# From solutions\n",
    "train_datagen = ImageDataGenerator(\n",
    "      rotation_range=40,\n",
    "      width_shift_range=0.2,\n",
    "      height_shift_range=0.2,\n",
    "      shear_range=0.2,\n",
    "      zoom_range=0.2,\n",
    "      horizontal_flip=True,\n",
    "      fill_mode='nearest')\n",
    "\n",
    "test_datagen = ImageDataGenerator(rescale=1./255)\n",
    "\n",
    "train_generator = train_datagen.flow_from_directory(\n",
    "        # This is the target directory\n",
    "        train_dir,\n",
    "        # All images will be resized to 150x150\n",
    "        target_size=(150, 150),\n",
    "        batch_size=32,\n",
    "        # Since we use binary_crossentropy loss, we need binary labels\n",
    "        class_mode='binary')\n",
    "\n",
    "validation_generator = test_datagen.flow_from_directory(\n",
    "        validation_dir,\n",
    "        target_size=(150, 150),\n",
    "        batch_size=32,\n",
    "        class_mode='binary')\n",
    "\n",
    "history = model.fit_generator(\n",
    "      train_generator,\n",
    "      steps_per_epoch=100,\n",
    "      epochs=100,\n",
    "      validation_data=validation_generator,\n",
    "      validation_steps=50)"
   ]
  },
  {
   "cell_type": "markdown",
   "metadata": {},
   "source": [
    "## Final Evaluation\n",
    "\n",
    "Now use the test set to perform a final evaluation on your model of choice."
   ]
  },
  {
   "cell_type": "code",
   "execution_count": null,
   "metadata": {},
   "outputs": [],
   "source": [
    "# Your code here; perform a final evaluation using the test set.."
   ]
  },
  {
   "cell_type": "markdown",
   "metadata": {},
   "source": [
    "## Extension: Adding Data to the Model\n",
    "\n",
    "As discussed, the current dataset we worked with is a subset of a dataset hosted on Kaggle. Increasing the data that we use to train the model will result in additional performance gains but will also result in longer training times and be more resource intensive.   \n",
    "\n",
    "It is estimated that training on the full dataset will take approximately 4 hours (and potentially significantly longer) depending on your computer's specifications.\n",
    "\n",
    "In order to test the impact of training on the full dataset, start by downloading the data from kaggle here: https://www.kaggle.com/paultimothymooney/chest-xray-pneumonia.   "
   ]
  },
  {
   "cell_type": "code",
   "execution_count": null,
   "metadata": {},
   "outputs": [],
   "source": [
    "#Optional extension; Your code here"
   ]
  },
  {
   "cell_type": "markdown",
   "metadata": {},
   "source": [
    "## Summary\n",
    "\n",
    "Well done! In this lab, you practice building your own CNN for image recognition which drastically outperformed our previous attempts using a standard deep learning model alone. In the upcoming sections, we'll continue to investigate further techniques associated with CNNs including visualizing the representations they learn and techniques to further bolster their performance when we have limited training data such as here."
   ]
  }
 ],
 "metadata": {
  "kernelspec": {
   "display_name": "learn-env",
   "language": "python",
   "name": "learn-env"
  },
  "language_info": {
   "codemirror_mode": {
    "name": "ipython",
    "version": 3
   },
   "file_extension": ".py",
   "mimetype": "text/x-python",
   "name": "python",
   "nbconvert_exporter": "python",
   "pygments_lexer": "ipython3",
   "version": "3.6.6"
  }
 },
 "nbformat": 4,
 "nbformat_minor": 2
}
